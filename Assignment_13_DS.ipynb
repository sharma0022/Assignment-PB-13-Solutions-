{
 "cells": [
  {
   "cell_type": "markdown",
   "id": "1b328203",
   "metadata": {},
   "source": [
    "# Assignment 13 Solution"
   ]
  },
  {
   "cell_type": "raw",
   "id": "34436a9c",
   "metadata": {},
   "source": [
    "Q.1. What advantages do Excel spreadsheets have over CSV spreadsheets?\n",
    "\n",
    "Ans: Advanced formatting options\n",
    "      1. Built-in formulas and functions\n",
    "      2. Graphical representation of data (charts, graphs)\n",
    "      3. Ability to create pivot tables\n",
    "      4. Ability to use VBA macros\n",
    "      5. Collaboration and sharing options (track changes, comments)\n",
    "      6. Built-in data validation rules\n",
    "      7. Better data organization with multiple sheets within a workbook\n",
    "      8. Ability to add custom images and shapes\n",
    "      9. Built-in features for sorting and filtering data."
   ]
  },
  {
   "cell_type": "raw",
   "id": "e31e9bec",
   "metadata": {},
   "source": [
    "Q.2. What do you pass to csv.reader() and csv.writer() to create reader and writer objects?\n",
    "\n",
    "Ans: For csv.reader(), we pass an open file object, representing the CSV file.\n",
    "     For csv.writer(), we pass a file object opened in write mode, that will represent the            output CSV file."
   ]
  },
  {
   "cell_type": "code",
   "execution_count": 2,
   "id": "c5f234f0",
   "metadata": {},
   "outputs": [
    {
     "name": "stdout",
     "output_type": "stream",
     "text": [
      "The file input.csv does not exist.\n"
     ]
    }
   ],
   "source": [
    "#for example\n",
    "import csv\n",
    "import os\n",
    "\n",
    "file_path = 'input.csv'\n",
    "\n",
    "if os.path.exists(file_path):\n",
    "    with open(file_path, 'r') as file:\n",
    "        reader = csv.reader(file)\n",
    "else:\n",
    "    print(f\"The file {file_path} does not exist.\")\n"
   ]
  },
  {
   "cell_type": "code",
   "execution_count": 10,
   "id": "b8dabd19",
   "metadata": {},
   "outputs": [
    {
     "name": "stdout",
     "output_type": "stream",
     "text": [
      "['Column 1', 'Column 2', 'Column 3']\n",
      "['1', '2', '3']\n",
      "['4', '5', '6']\n",
      "['7', '8', '9']\n"
     ]
    }
   ],
   "source": [
    "#for example\n",
    "import csv\n",
    "\n",
    "with open(\"example.csv\", \"r\") as file:\n",
    "    reader = csv.reader(file)\n",
    "    for row in reader:\n",
    "        print(row)\n",
    "import csv\n",
    "\n",
    "with open(\"example.csv\", \"w\", newline=\"\") as file:\n",
    "    writer = csv.writer(file)\n",
    "    writer.writerow([\"Column 1\", \"Column 2\", \"Column 3\"])\n",
    "    writer.writerows([[1, 2, 3], [4, 5, 6], [7, 8, 9]])\n",
    "\n"
   ]
  },
  {
   "cell_type": "raw",
   "id": "3a5fa55d",
   "metadata": {},
   "source": [
    "Q.3. What modes do File objects for reader and writer objects need to be opened in?\n",
    "\n",
    "Ans: For a csv.reader object, the file object should be opened in \"r\" (read) mode.\n",
    "\n",
    "     For a csv.writer object, the file object should be opened in \"w\" (write) mode or \"a\"              (append) mode. If you open the file in \"w\" mode, it will overwrite the file if it already        exists or create a new file if it doesn't. If you open the file in \"a\" mode, it will append      to the file if it already exists or create a new file if it doesn't."
   ]
  },
  {
   "cell_type": "raw",
   "id": "bd9bdc17",
   "metadata": {},
   "source": [
    "Q.4. What method takes a list argument and writes it to a CSV file?\n",
    "\n",
    "Ans: The writerows method of a csv.writer object takes a list argument and writes it to a CSV          file."
   ]
  },
  {
   "cell_type": "code",
   "execution_count": 13,
   "id": "0c3567ed",
   "metadata": {},
   "outputs": [],
   "source": [
    "#for example\n",
    "import csv\n",
    "\n",
    "data = [['Column 1', 'Column 2', 'Column 3'], [1, 2, 3], [4, 5, 6], [7, 8, 9]]\n",
    "\n",
    "with open(\"example.csv\", \"w\", newline=\"\") as file:\n",
    "    writer = csv.writer(file)\n",
    "    writer.writerows(data)\n",
    "#This will write the contents of the data list to the example.csv file."
   ]
  },
  {
   "cell_type": "raw",
   "id": "5409895e",
   "metadata": {},
   "source": [
    "Q.5. What do the keyword arguments delimiter and line terminator do?\n",
    "\n",
    "Ans: The delimiter keyword argument in the csv module specifies the character that separates          values in a CSV file. The line terminator keyword argument specifies the character(s) that        separates rows in a CSV file."
   ]
  },
  {
   "cell_type": "raw",
   "id": "62efe2eb",
   "metadata": {},
   "source": [
    "Q.6. What function takes a string of JSON data and returns a Python data structure?\n",
    "\n",
    "Ans: The json module provides a function json.loads() that takes a string of JSON data and            returns a Python data structure, such as a dictionary, list, or string."
   ]
  },
  {
   "cell_type": "code",
   "execution_count": 20,
   "id": "ab9a0b4a",
   "metadata": {},
   "outputs": [
    {
     "name": "stdout",
     "output_type": "stream",
     "text": [
      "{'name': 'Pappu', 'age': 30, 'city': 'Greater Noida'}\n"
     ]
    }
   ],
   "source": [
    "#for example\n",
    "import json\n",
    "\n",
    "json_data = '{\"name\": \"Pappu\", \"age\": 30, \"city\": \"Greater Noida\"}'\n",
    "\n",
    "python_data = json.loads(json_data)\n",
    "\n",
    "print(python_data)\n",
    "\n",
    "# The json.loads() function takes the string json_data and returns a dictionary with keys 'name', 'age', and 'city'"
   ]
  },
  {
   "cell_type": "code",
   "execution_count": 21,
   "id": "000fdec8",
   "metadata": {},
   "outputs": [
    {
     "name": "stdout",
     "output_type": "stream",
     "text": [
      "{\n",
      "    \"Name\": \"Pappu Sharma\",\n",
      "    \"Qualification\": \"Bachelor of Technology\",\n",
      "    \"Stream\": \"Electronics and communications Engineering\"\n",
      "}\n",
      "Type of my_details_json is <class 'str'>\n",
      "{'Name': 'Pappu Sharma', 'Qualification': 'Bachelor of Technology', 'Stream': 'Electronics and communications Engineering'}\n",
      "Type of my_details is <class 'dict'>\n"
     ]
    }
   ],
   "source": [
    "#example\n",
    "import json\n",
    "my_details_json ='''{\n",
    "    \"Name\": \"Pappu Sharma\",\n",
    "    \"Qualification\": \"Bachelor of Technology\",\n",
    "    \"Stream\": \"Electronics and communications Engineering\"\n",
    "}'''\n",
    "print(my_details_json)\n",
    "print(f'Type of my_details_json is {type(my_details_json)}')\n",
    "my_details = json.loads(my_details_json)\n",
    "print(my_details)\n",
    "print(f'Type of my_details is {type(my_details)}')"
   ]
  },
  {
   "cell_type": "raw",
   "id": "ed2ddc6d",
   "metadata": {},
   "source": [
    "Q.7. What function takes a Python data structure and returns a string of JSON data?\n",
    "\n",
    "Ans: "
   ]
  },
  {
   "cell_type": "code",
   "execution_count": 24,
   "id": "5e679b6b",
   "metadata": {},
   "outputs": [
    {
     "name": "stdout",
     "output_type": "stream",
     "text": [
      "{'Name': 'Pappu Sharma', 'Stream': 'Electronics and communications Engineering', 'Qualification': 'Bachelor of Technology'}\n",
      "Type of my_details is <class 'dict'>\n",
      "{\n",
      "    \"Name\": \"Pappu Sharma\",\n",
      "    \"Qualification\": \"Bachelor of Technology\",\n",
      "    \"Stream\": \"Electronics and communications Engineering\"\n",
      "}\n",
      "Type of my_details_json is <class 'str'>\n"
     ]
    }
   ],
   "source": [
    "# Example of json.dumps() method\n",
    "import json\n",
    "my_details = {\n",
    "    'Name':'Pappu Sharma',\n",
    "    'Stream':'Electronics and communications Engineering',\n",
    "    'Qualification':'Bachelor of Technology'\n",
    "}\n",
    "print(my_details)\n",
    "print(f'Type of my_details is {type(my_details)}')\n",
    "my_details_json = json.dumps(my_details, indent=4, sort_keys=True)\n",
    "print(my_details_json)\n",
    "print(f'Type of my_details_json is {type(my_details_json)}')\n"
   ]
  },
  {
   "cell_type": "code",
   "execution_count": null,
   "id": "4fd41ab5",
   "metadata": {},
   "outputs": [],
   "source": []
  }
 ],
 "metadata": {
  "kernelspec": {
   "display_name": "Python 3 (ipykernel)",
   "language": "python",
   "name": "python3"
  },
  "language_info": {
   "codemirror_mode": {
    "name": "ipython",
    "version": 3
   },
   "file_extension": ".py",
   "mimetype": "text/x-python",
   "name": "python",
   "nbconvert_exporter": "python",
   "pygments_lexer": "ipython3",
   "version": "3.9.12"
  }
 },
 "nbformat": 4,
 "nbformat_minor": 5
}
